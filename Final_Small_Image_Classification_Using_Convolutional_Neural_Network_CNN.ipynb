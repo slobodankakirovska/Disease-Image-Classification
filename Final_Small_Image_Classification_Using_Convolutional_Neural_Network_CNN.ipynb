{
  "cells": [
    {
      "cell_type": "markdown",
      "metadata": {
        "id": "GkOls2qznqWk"
      },
      "source": [
        "## Dicease Image Classification Using Convolutional Neural Network (CNN)"
      ]
    },
    {
      "cell_type": "markdown",
      "metadata": {
        "id": "PzCpHEo3nqWp"
      },
      "source": [
        "#### In this notebook, we will classify small images datasets which we collect on our own. There are total 400. We will use CNN for classification."
      ]
    },
    {
      "cell_type": "markdown",
      "metadata": {
        "id": "snw5ew3ZnqWq"
      },
      "source": [
        "<img src=\"images/small_images.jpg\" style=\"width:850px;height:600px;\">"
      ]
    },
    {
      "cell_type": "code",
      "source": [
        "import zipfile\n",
        "import os\n",
        "import re\n",
        "import numpy as np\n",
        "import tensorflow as tf\n",
        "import io\n",
        "import matplotlib.pyplot as plt\n",
        "from PIL import Image\n",
        "import tensorflow as tf\n",
        "from tensorflow.keras import datasets, layers, models\n",
        "import matplotlib.pyplot as plt\n",
        "import numpy as np"
      ],
      "metadata": {
        "id": "c15e1ksfAGjN"
      },
      "execution_count": 92,
      "outputs": []
    },
    {
      "cell_type": "code",
      "source": [
        "from google.colab import drive\n",
        "drive.mount('/content/drive')"
      ],
      "metadata": {
        "colab": {
          "base_uri": "https://localhost:8080/"
        },
        "id": "q5hn0bZqAGgU",
        "outputId": "9d08d2d7-298d-4674-bf88-35612345d885"
      },
      "execution_count": 93,
      "outputs": [
        {
          "output_type": "stream",
          "name": "stdout",
          "text": [
            "Drive already mounted at /content/drive; to attempt to forcibly remount, call drive.mount(\"/content/drive\", force_remount=True).\n"
          ]
        }
      ]
    },
    {
      "cell_type": "code",
      "source": [
        "import os\n",
        "import numpy as np\n",
        "from PIL import Image\n",
        "\n",
        "x = []\n",
        "y = []\n",
        "\n",
        "folder_path = \"/content/drive/MyDrive/Images_NEW\"  # Update with the actual path to your image folder\n",
        "\n",
        "image_files = os.listdir(folder_path)\n",
        "\n",
        "i = 0\n",
        "\n",
        "for filename in image_files:\n",
        "\n",
        "  img_path = os.path.join(folder_path, filename)\n",
        "\n",
        "\n",
        "  img = Image.open(img_path)\n",
        "\n",
        "  img = img.resize((32, 32))\n",
        "\n",
        "  if img.mode == 'RGBA':\n",
        "    img = img.convert('RGB')\n",
        "\n",
        "        # Get numpy array\n",
        "  img_array = np.array(img)  # Check if this matches the actual size of your images\n",
        "\n",
        "\n",
        "  if len(img_array.shape) == 3 and img_array.shape[0] == 32 and img_array.shape[1] == 32 and img_array.shape[2] in [3, 4]:\n",
        "      x.append(img_array)\n",
        "\n",
        "  label = filename.split('_')[0]\n",
        "  y.append(label)\n",
        "\n",
        "\n",
        "\n",
        "# Convert lists into numpy arrays\n",
        "x = np.array(x)\n",
        "\n",
        "y = np.array(y)"
      ],
      "metadata": {
        "id": "tdn2nWs1AGd5"
      },
      "execution_count": 94,
      "outputs": []
    },
    {
      "cell_type": "code",
      "source": [
        "print(x)"
      ],
      "metadata": {
        "colab": {
          "base_uri": "https://localhost:8080/"
        },
        "id": "-K3mA-7JAGa0",
        "outputId": "0a650e56-2403-40cd-9be5-17ebf4a9b80e"
      },
      "execution_count": 95,
      "outputs": [
        {
          "output_type": "stream",
          "name": "stdout",
          "text": [
            "[[[[ 81  52  44]\n",
            "   [ 82  54  45]\n",
            "   [ 84  55  47]\n",
            "   ...\n",
            "   [127  67  70]\n",
            "   [114  56  61]\n",
            "   [ 99  44  49]]\n",
            "\n",
            "  [[ 91  59  52]\n",
            "   [ 92  61  53]\n",
            "   [ 93  61  54]\n",
            "   ...\n",
            "   [128  65  68]\n",
            "   [117  57  62]\n",
            "   [105  46  53]]\n",
            "\n",
            "  [[ 95  62  53]\n",
            "   [ 98  65  57]\n",
            "   [100  66  58]\n",
            "   ...\n",
            "   [130  66  68]\n",
            "   [119  59  63]\n",
            "   [109  50  56]]\n",
            "\n",
            "  ...\n",
            "\n",
            "  [[129  78  62]\n",
            "   [132  81  63]\n",
            "   [133  82  61]\n",
            "   ...\n",
            "   [101  65  49]\n",
            "   [ 94  60  47]\n",
            "   [ 89  56  44]]\n",
            "\n",
            "  [[123  73  58]\n",
            "   [129  80  64]\n",
            "   [129  79  63]\n",
            "   ...\n",
            "   [ 96  62  48]\n",
            "   [ 90  57  43]\n",
            "   [ 84  51  37]]\n",
            "\n",
            "  [[117  68  55]\n",
            "   [121  72  59]\n",
            "   [122  73  60]\n",
            "   ...\n",
            "   [ 86  52  41]\n",
            "   [ 87  53  43]\n",
            "   [ 82  48  38]]]\n",
            "\n",
            "\n",
            " [[[142 125  97]\n",
            "   [141 124  96]\n",
            "   [137 120  92]\n",
            "   ...\n",
            "   [142 134 130]\n",
            "   [142 115 101]\n",
            "   [ 79  58  51]]\n",
            "\n",
            "  [[134 117  89]\n",
            "   [131 114  86]\n",
            "   [126 109  81]\n",
            "   ...\n",
            "   [129 109  95]\n",
            "   [151 128 117]\n",
            "   [ 78  54  44]]\n",
            "\n",
            "  [[126 109  82]\n",
            "   [122 105  76]\n",
            "   [115  98  69]\n",
            "   ...\n",
            "   [146 127 113]\n",
            "   [146 125 112]\n",
            "   [ 64  41  31]]\n",
            "\n",
            "  ...\n",
            "\n",
            "  [[ 83  64  57]\n",
            "   [ 96  72  58]\n",
            "   [ 96  71  58]\n",
            "   ...\n",
            "   [170 190 201]\n",
            "   [124 136 143]\n",
            "   [ 81  83  85]]\n",
            "\n",
            "  [[ 85  70  67]\n",
            "   [ 98  78  69]\n",
            "   [ 98  78  69]\n",
            "   ...\n",
            "   [181 200 210]\n",
            "   [176 197 206]\n",
            "   [168 189 197]]\n",
            "\n",
            "  [[ 89  77  77]\n",
            "   [ 99  87  81]\n",
            "   [101  88  82]\n",
            "   ...\n",
            "   [187 205 212]\n",
            "   [183 201 208]\n",
            "   [173 191 200]]]\n",
            "\n",
            "\n",
            " [[[173 121 129]\n",
            "   [172 124 129]\n",
            "   [166 122 129]\n",
            "   ...\n",
            "   [180 113 126]\n",
            "   [192 130 142]\n",
            "   [180 104 118]]\n",
            "\n",
            "  [[173 127 134]\n",
            "   [164 123 127]\n",
            "   [167 128 134]\n",
            "   ...\n",
            "   [193 128 141]\n",
            "   [191 131 144]\n",
            "   [179 103 116]]\n",
            "\n",
            "  [[173 130 138]\n",
            "   [156 119 123]\n",
            "   [180 141 149]\n",
            "   ...\n",
            "   [192 126 139]\n",
            "   [186 120 131]\n",
            "   [176  96 105]]\n",
            "\n",
            "  ...\n",
            "\n",
            "  [[  7  22  33]\n",
            "   [  3  21  32]\n",
            "   [ 51  55  61]\n",
            "   ...\n",
            "   [ 14  25  32]\n",
            "   [ 89  79  87]\n",
            "   [205 177 186]]\n",
            "\n",
            "  [[  4  22  32]\n",
            "   [  6  23  33]\n",
            "   [  4  21  31]\n",
            "   ...\n",
            "   [  7  24  33]\n",
            "   [ 13  25  35]\n",
            "   [ 42  45  51]]\n",
            "\n",
            "  [[  5  22  32]\n",
            "   [  4  21  31]\n",
            "   [  4  22  32]\n",
            "   ...\n",
            "   [  5  24  36]\n",
            "   [  7  25  37]\n",
            "   [  4  22  34]]]\n",
            "\n",
            "\n",
            " ...\n",
            "\n",
            "\n",
            " [[[136 129 132]\n",
            "   [131 122 125]\n",
            "   [131 132 136]\n",
            "   ...\n",
            "   [144 157 166]\n",
            "   [131 143 151]\n",
            "   [200 201 206]]\n",
            "\n",
            "  [[143 131 136]\n",
            "   [125 113 117]\n",
            "   [133 130 136]\n",
            "   ...\n",
            "   [135 148 159]\n",
            "   [132 143 152]\n",
            "   [204 205 211]]\n",
            "\n",
            "  [[187 153 146]\n",
            "   [169 141 132]\n",
            "   [158 137 136]\n",
            "   ...\n",
            "   [120 142 152]\n",
            "   [133 146 155]\n",
            "   [204 207 213]]\n",
            "\n",
            "  ...\n",
            "\n",
            "  [[167 104  88]\n",
            "   [168 103  88]\n",
            "   [165 101  84]\n",
            "   ...\n",
            "   [122  86  74]\n",
            "   [118  82  72]\n",
            "   [123  87  76]]\n",
            "\n",
            "  [[137  80  71]\n",
            "   [137  80  70]\n",
            "   [136  77  68]\n",
            "   ...\n",
            "   [103  86  79]\n",
            "   [ 79  63  57]\n",
            "   [ 80  61  56]]\n",
            "\n",
            "  [[109  82  71]\n",
            "   [104  78  68]\n",
            "   [ 96  69  60]\n",
            "   ...\n",
            "   [213 225 216]\n",
            "   [199 209 201]\n",
            "   [167 173 168]]]\n",
            "\n",
            "\n",
            " [[[ 18  11  16]\n",
            "   [ 47  26  19]\n",
            "   [ 85  60  49]\n",
            "   ...\n",
            "   [ 12  12  14]\n",
            "   [ 11  11  13]\n",
            "   [ 11  11  13]]\n",
            "\n",
            "  [[ 17  11  13]\n",
            "   [ 62  42  34]\n",
            "   [ 89  65  53]\n",
            "   ...\n",
            "   [ 12  12  14]\n",
            "   [ 12  12  14]\n",
            "   [ 11  11  13]]\n",
            "\n",
            "  [[ 24  15  15]\n",
            "   [ 68  45  38]\n",
            "   [103  75  66]\n",
            "   ...\n",
            "   [ 12  13  15]\n",
            "   [ 13  13  15]\n",
            "   [ 12  12  14]]\n",
            "\n",
            "  ...\n",
            "\n",
            "  [[ 67  31  26]\n",
            "   [ 85  46  42]\n",
            "   [100  61  56]\n",
            "   ...\n",
            "   [107  74  69]\n",
            "   [ 16  12  11]\n",
            "   [ 13  11   9]]\n",
            "\n",
            "  [[ 59  24  22]\n",
            "   [ 78  40  36]\n",
            "   [ 92  53  48]\n",
            "   ...\n",
            "   [ 84  55  52]\n",
            "   [  9   8  12]\n",
            "   [ 12  12  16]]\n",
            "\n",
            "  [[ 52  20  18]\n",
            "   [ 71  34  29]\n",
            "   [ 85  45  39]\n",
            "   ...\n",
            "   [ 68  50  45]\n",
            "   [ 26  25  30]\n",
            "   [ 19  17  24]]]\n",
            "\n",
            "\n",
            " [[[235 241 249]\n",
            "   [182 160 160]\n",
            "   [126  51  37]\n",
            "   ...\n",
            "   [119  19   6]\n",
            "   [127  33  10]\n",
            "   [132  46  20]]\n",
            "\n",
            "  [[236 241 249]\n",
            "   [199 187 188]\n",
            "   [112  38  29]\n",
            "   ...\n",
            "   [111  10   2]\n",
            "   [121  25   6]\n",
            "   [128  38  15]]\n",
            "\n",
            "  [[234 239 243]\n",
            "   [226 229 235]\n",
            "   [133  82  83]\n",
            "   ...\n",
            "   [102   4   2]\n",
            "   [111  14   5]\n",
            "   [110  17   5]]\n",
            "\n",
            "  ...\n",
            "\n",
            "  [[225 230 241]\n",
            "   [177 189 211]\n",
            "   [155 114 108]\n",
            "   ...\n",
            "   [168 126 100]\n",
            "   [155 154 171]\n",
            "   [219 231 241]]\n",
            "\n",
            "  [[214 208 217]\n",
            "   [176 190 212]\n",
            "   [146 108 106]\n",
            "   ...\n",
            "   [176 131 101]\n",
            "   [147 138 148]\n",
            "   [197 214 229]]\n",
            "\n",
            "  [[205 185 190]\n",
            "   [174 190 213]\n",
            "   [132  99  99]\n",
            "   ...\n",
            "   [182 133 105]\n",
            "   [147 133 134]\n",
            "   [172 191 212]]]]\n"
          ]
        }
      ]
    },
    {
      "cell_type": "code",
      "source": [
        "print(y)"
      ],
      "metadata": {
        "colab": {
          "base_uri": "https://localhost:8080/"
        },
        "id": "Vg4tA8-oAGYo",
        "outputId": "3a228bfd-7ba7-4262-fbe5-fcb1556dcec2"
      },
      "execution_count": 96,
      "outputs": [
        {
          "output_type": "stream",
          "name": "stdout",
          "text": [
            "['cellulitis' 'cellulitis' 'cellulitis' 'cellulitis' 'cellulitis'\n",
            " 'cellulitis' 'cellulitis' 'cellulitis' 'cellulitis' 'cellulitis'\n",
            " 'cellulitis' 'cellulitis' 'cellulitis' 'cellulitis' 'cellulitis'\n",
            " 'cellulitis' 'cellulitis' 'cellulitis' 'cellulitis' 'cellulitis'\n",
            " 'cellulitis' 'cellulitis' 'cellulitis' 'cellulitis' 'cellulitis'\n",
            " 'cellulitis' 'cellulitis' 'cellulitis' 'cellulitis' 'cellulitis'\n",
            " 'cellulitis' 'chickenpox' 'cellulitis' 'cellulitis' 'cellulitis'\n",
            " 'cellulitis' 'chickenpox' 'cellulitis' 'cellulitis' 'cellulitis'\n",
            " 'chickenpox' 'cellulitis' 'cellulitis' 'cellulitis' 'chickenpox'\n",
            " 'cellulitis' 'cellulitis' 'cellulitis' 'cellulitis' 'chickenpox'\n",
            " 'cellulitis' 'cellulitis' 'cellulitis' 'cellulitis' 'cellulitis'\n",
            " 'chickenpox' 'chickenpox' 'chickenpox' 'chickenpox' 'chickenpox'\n",
            " 'chickenpox' 'chickenpox' 'chickenpox' 'chickenpox' 'chickenpox'\n",
            " 'chickenpox' 'chickenpox' 'chickenpox' 'chickenpox' 'chickenpox'\n",
            " 'chickenpox' 'chickenpox' 'chickenpox' 'chickenpox' 'chickenpox'\n",
            " 'chickenpox' 'chickenpox' 'chickenpox' 'chickenpox' 'chickenpox'\n",
            " 'chickenpox' 'chickenpox' 'chickenpox' 'chickenpox' 'dermatitis'\n",
            " 'chickenpox' 'dermatitis' 'chickenpox' 'chickenpox' 'chickenpox'\n",
            " 'dermatitis' 'chickenpox' 'chickenpox' 'chickenpox' 'chickenpox'\n",
            " 'chickenpox' 'chickenpox' 'dermatitis' 'dermatitis' 'dermatitis'\n",
            " 'chickenpox' 'chickenpox' 'chickenpox' 'dermatitis' 'chickenpox'\n",
            " 'chickenpox' 'chickenpox' 'dermatitis' 'dermatitis' 'dermatitis'\n",
            " 'dermatitis' 'dermatitis' 'dermatitis' 'dermatitis' 'dermatitis'\n",
            " 'dermatitis' 'dermatitis' 'dermatitis' 'dermatitis' 'dermatitis'\n",
            " 'dermatitis' 'dermatitis' 'dermatitis' 'dermatitis' 'dermatitis'\n",
            " 'dermatitis' 'dermatitis' 'dermatitis' 'dermatitis' 'dermatitis'\n",
            " 'dermatitis' 'dermatitis' 'eczema' 'dermatitis' 'dermatitis' 'dermatitis'\n",
            " 'dermatitis' 'eczema' 'eczema' 'dermatitis' 'dermatitis' 'dermatitis'\n",
            " 'eczema' 'dermatitis' 'dermatitis' 'dermatitis' 'dermatitis' 'eczema'\n",
            " 'eczema' 'dermatitis' 'eczema' 'dermatitis' 'dermatitis' 'eczema'\n",
            " 'dermatitis' 'dermatitis' 'dermatitis' 'dermatitis' 'eczema' 'eczema'\n",
            " 'eczema' 'eczema' 'eczema' 'eczema' 'eczema' 'eczema' 'eczema' 'eczema'\n",
            " 'eczema' 'eczema' 'eczema' 'eczema' 'eczema' 'eczema' 'eczema' 'eczema'\n",
            " 'eczema' 'eczema' 'eczema' 'eczema' 'eczema' 'eczema' 'eczema' 'eczema'\n",
            " 'eczema' 'eczema' 'eczema' 'eczema' 'hives' 'hives' 'hives' 'hives'\n",
            " 'hives' 'eczema' 'eczema' 'eczema' 'hives' 'eczema' 'hives' 'hives'\n",
            " 'eczema' 'hives' 'hives' 'eczema' 'hives' 'eczema' 'eczema' 'hives'\n",
            " 'eczema' 'hives' 'hives' 'hives' 'hives' 'eczema' 'eczema' 'eczema'\n",
            " 'hives' 'hives' 'hives' 'hives' 'hives' 'hives' 'hives' 'hives' 'hives'\n",
            " 'hives' 'hives' 'hives' 'hives' 'hives' 'hives' 'hives' 'hives' 'hives'\n",
            " 'hives' 'hives' 'hives' 'hives' 'hives' 'hives' 'hives' 'hives' 'hives'\n",
            " 'lupus' 'hives' 'lupus' 'lupus' 'lupus' 'hives' 'lupus' 'lupus' 'lupus'\n",
            " 'lupus' 'lupus' 'lupus' 'hives' 'lupus' 'hives' 'hives' 'lupus' 'lupus'\n",
            " 'hives' 'lupus' 'lupus' 'lupus' 'lupus' 'lupus' 'lupus' 'hives' 'lupus'\n",
            " 'lupus' 'lupus' 'lupus' 'lupus' 'lupus' 'lupus' 'lupus' 'lupus' 'lupus'\n",
            " 'lupus' 'lupus' 'lupus' 'lupus' 'lupus' 'lupus' 'lupus' 'lupus' 'lupus'\n",
            " 'lupus' 'lupus' 'lupus' 'lupus' 'lupus' 'lupus' 'lupus' 'lupus' 'lupus'\n",
            " 'lupus' 'lupus' 'lupus' 'ringworm' 'ringworm' 'ringworm' 'ringworm'\n",
            " 'ringworm' 'ringworm' 'ringworm' 'ringworm' 'ringworm' 'ringworm'\n",
            " 'ringworm' 'ringworm' 'ringworm' 'ringworm' 'ringworm' 'ringworm'\n",
            " 'ringworm' 'ringworm' 'ringworm' 'ringworm' 'ringworm' 'ringworm'\n",
            " 'ringworm' 'ringworm' 'ringworm' 'ringworm' 'ringworm' 'ringworm'\n",
            " 'ringworm' 'ringworm' 'shingles' 'ringworm' 'ringworm' 'ringworm'\n",
            " 'ringworm' 'ringworm' 'ringworm' 'shingles' 'ringworm' 'shingles'\n",
            " 'ringworm' 'ringworm' 'ringworm' 'ringworm' 'shingles' 'ringworm'\n",
            " 'ringworm' 'shingles' 'shingles' 'ringworm' 'ringworm' 'ringworm'\n",
            " 'ringworm' 'ringworm' 'ringworm' 'shingles' 'ringworm' 'shingles'\n",
            " 'shingles' 'shingles' 'shingles' 'shingles' 'shingles' 'shingles'\n",
            " 'shingles' 'shingles' 'shingles' 'shingles' 'shingles' 'shingles'\n",
            " 'shingles' 'shingles' 'shingles' 'shingles' 'shingles' 'shingles'\n",
            " 'shingles' 'shingles' 'shingles' 'shingles' 'shingles' 'shingles'\n",
            " 'shingles' 'shingles' 'shingles' 'shingles' 'shingles' 'shingles'\n",
            " 'shingles' 'shingles' 'shingles' 'shingles' 'shingles' 'shingles'\n",
            " 'shingles' 'shingles' 'shingles' 'shingles' 'shingles' 'shingles'\n",
            " 'eczema' 'eczema' 'eczema' 'eczema' 'eczema' 'eczema' 'eczema' 'eczema'\n",
            " 'eczema' 'eczema' 'eczema' 'eczema' 'eczema' 'eczema' 'eczema' 'eczema'\n",
            " 'eczema' 'eczema' 'eczema' 'eczema' 'eczema' 'eczema' 'eczema' 'eczema'\n",
            " 'eczema' 'eczema' 'eczema' 'eczema' 'eczema' 'eczema' 'eczema' 'eczema'\n",
            " 'eczema' 'eczema' 'eczema' 'eczema' 'eczema' 'eczema' 'eczema' 'eczema'\n",
            " 'eczema' 'eczema' 'eczema' 'eczema' 'eczema' 'eczema' 'eczema' 'eczema'\n",
            " 'eczema' 'eczema' 'ringworm' 'ringworm' 'ringworm' 'ringworm' 'ringworm'\n",
            " 'ringworm' 'ringworm' 'ringworm' 'ringworm' 'ringworm' 'ringworm'\n",
            " 'ringworm' 'ringworm' 'ringworm' 'ringworm' 'ringworm' 'ringworm'\n",
            " 'ringworm' 'ringworm' 'ringworm' 'ringworm' 'ringworm' 'ringworm'\n",
            " 'ringworm' 'ringworm' 'ringworm' 'ringworm' 'ringworm' 'ringworm'\n",
            " 'ringworm' 'ringworm' 'ringworm' 'ringworm' 'ringworm' 'ringworm'\n",
            " 'ringworm' 'ringworm' 'ringworm' 'ringworm' 'ringworm' 'ringworm'\n",
            " 'ringworm' 'ringworm' 'ringworm' 'ringworm' 'ringworm' 'ringworm'\n",
            " 'ringworm' 'ringworm' 'ringworm' 'lupus' 'lupus' 'lupus' 'lupus' 'lupus'\n",
            " 'lupus' 'lupus' 'lupus' 'lupus' 'lupus' 'lupus' 'lupus' 'lupus' 'lupus'\n",
            " 'lupus' 'lupus' 'lupus' 'lupus' 'lupus' 'lupus' 'lupus' 'lupus' 'lupus'\n",
            " 'lupus' 'lupus' 'lupus' 'lupus' 'lupus' 'lupus' 'lupus' 'lupus' 'lupus'\n",
            " 'lupus' 'lupus' 'lupus' 'lupus' 'lupus' 'lupus' 'lupus' 'lupus' 'lupus'\n",
            " 'lupus' 'lupus' 'lupus' 'lupus' 'lupus' 'lupus' 'lupus' 'lupus' 'lupus'\n",
            " 'psoriasis' 'psoriasis' 'psoriasis' 'psoriasis' 'psoriasis' 'psoriasis'\n",
            " 'psoriasis' 'psoriasis' 'psoriasis' 'psoriasis' 'psoriasis' 'psoriasis'\n",
            " 'psoriasis' 'psoriasis' 'psoriasis' 'psoriasis' 'psoriasis' 'psoriasis'\n",
            " 'psoriasis' 'psoriasis' 'psoriasis' 'psoriasis' 'psoriasis' 'psoriasis'\n",
            " 'psoriasis' 'psoriasis' 'psoriasis' 'psoriasis' 'psoriasis' 'psoriasis'\n",
            " 'psoriasis' 'psoriasis' 'psoriasis' 'psoriasis' 'psoriasis' 'psoriasis'\n",
            " 'psoriasis' 'psoriasis' 'psoriasis' 'psoriasis' 'psoriasis' 'psoriasis'\n",
            " 'psoriasis' 'psoriasis' 'psoriasis' 'psoriasis' 'psoriasis' 'psoriasis'\n",
            " 'psoriasis' 'psoriasis' 'dermatitis' 'dermatitis' 'dermatitis'\n",
            " 'dermatitis' 'dermatitis' 'dermatitis' 'dermatitis' 'dermatitis'\n",
            " 'dermatitis' 'dermatitis' 'dermatitis' 'dermatitis' 'dermatitis'\n",
            " 'dermatitis' 'dermatitis' 'dermatitis' 'dermatitis' 'dermatitis'\n",
            " 'dermatitis' 'dermatitis' 'dermatitis' 'dermatitis' 'dermatitis'\n",
            " 'dermatitis' 'dermatitis' 'dermatitis' 'dermatitis' 'dermatitis'\n",
            " 'dermatitis' 'dermatitis' 'dermatitis' 'dermatitis' 'dermatitis'\n",
            " 'dermatitis' 'dermatitis' 'dermatitis' 'dermatitis' 'dermatitis'\n",
            " 'dermatitis' 'dermatitis' 'dermatitis' 'dermatitis' 'dermatitis'\n",
            " 'dermatitis' 'dermatitis' 'dermatitis' 'dermatitis' 'dermatitis'\n",
            " 'dermatitis' 'hives' 'hives' 'hives' 'hives' 'hives' 'hives' 'hives'\n",
            " 'hives' 'hives' 'hives' 'hives' 'hives' 'hives' 'hives' 'hives' 'hives'\n",
            " 'hives' 'hives' 'hives' 'hives' 'hives' 'hives' 'hives' 'hives' 'hives'\n",
            " 'hives' 'hives' 'hives' 'hives' 'hives' 'hives' 'hives' 'hives' 'hives'\n",
            " 'hives' 'hives' 'hives' 'hives' 'hives' 'hives' 'hives' 'hives' 'hives'\n",
            " 'hives' 'hives' 'hives' 'hives' 'hives' 'hives' 'hives' 'melanoma'\n",
            " 'melanoma' 'melanoma' 'melanoma' 'melanoma' 'melanoma' 'melanoma'\n",
            " 'melanoma' 'melanoma' 'melanoma' 'melanoma' 'melanoma' 'melanoma'\n",
            " 'melanoma' 'melanoma' 'melanoma' 'melanoma' 'melanoma' 'melanoma'\n",
            " 'melanoma' 'melanoma' 'melanoma' 'melanoma' 'melanoma' 'melanoma'\n",
            " 'melanoma' 'melanoma' 'melanoma' 'melanoma' 'melanoma' 'melanoma'\n",
            " 'melanoma' 'melanoma' 'melanoma' 'melanoma' 'melanoma' 'melanoma'\n",
            " 'melanoma' 'melanoma' 'melanoma' 'melanoma' 'melanoma' 'melanoma'\n",
            " 'melanoma' 'melanoma' 'melanoma' 'melanoma' 'melanoma' 'melanoma'\n",
            " 'melanoma' 'chickenpox' 'chickenpox' 'chickenpox' 'chickenpox'\n",
            " 'chickenpox' 'chickenpox' 'chickenpox' 'chickenpox' 'chickenpox'\n",
            " 'chickenpox' 'chickenpox' 'chickenpox' 'chickenpox' 'chickenpox'\n",
            " 'chickenpox' 'chickenpox' 'chickenpox' 'chickenpox' 'chickenpox'\n",
            " 'chickenpox' 'chickenpox' 'chickenpox' 'chickenpox' 'chickenpox'\n",
            " 'chickenpox' 'chickenpox' 'chickenpox' 'chickenpox' 'chickenpox'\n",
            " 'chickenpox' 'chickenpox' 'chickenpox' 'chickenpox' 'chickenpox'\n",
            " 'chickenpox' 'chickenpox' 'chickenpox' 'chickenpox' 'chickenpox'\n",
            " 'chickenpox' 'chickenpox' 'chickenpox' 'chickenpox' 'chickenpox'\n",
            " 'chickenpox' 'chickenpox' 'chickenpox' 'chickenpox' 'chickenpox'\n",
            " 'cellulitis' 'cellulitis' 'cellulitis' 'cellulitis' 'cellulitis'\n",
            " 'cellulitis' 'cellulitis' 'cellulitis' 'cellulitis' 'cellulitis'\n",
            " 'cellulitis' 'cellulitis' 'cellulitis' 'cellulitis' 'cellulitis'\n",
            " 'cellulitis' 'cellulitis' 'cellulitis' 'cellulitis' 'cellulitis'\n",
            " 'cellulitis' 'cellulitis' 'cellulitis' 'cellulitis' 'cellulitis'\n",
            " 'cellulitis' 'cellulitis' 'cellulitis' 'cellulitis' 'cellulitis'\n",
            " 'cellulitis' 'cellulitis' 'cellulitis' 'cellulitis' 'cellulitis'\n",
            " 'cellulitis' 'cellulitis' 'cellulitis' 'cellulitis' 'cellulitis'\n",
            " 'cellulitis' 'cellulitis' 'cellulitis' 'cellulitis' 'cellulitis'\n",
            " 'cellulitis' 'cellulitis' 'cellulitis' 'cellulitis' 'cellulitis']\n"
          ]
        }
      ]
    },
    {
      "cell_type": "code",
      "source": [
        "# Get all the label names\n",
        "classes = np.unique(y)\n",
        "\n",
        "y_new = y.copy()\n",
        "for i in range(len(classes)):\n",
        "    # Convert label name into integer\n",
        "    y_new[y_new == classes[i]] = i\n",
        "y_new = y_new.astype(\"uint8\")\n",
        "\n",
        "print(f\"Class: {classes}\")"
      ],
      "metadata": {
        "colab": {
          "base_uri": "https://localhost:8080/"
        },
        "id": "iD05oXbZAGVt",
        "outputId": "c11d22a4-3b24-4bc1-b22d-7b113e559206"
      },
      "execution_count": 97,
      "outputs": [
        {
          "output_type": "stream",
          "name": "stdout",
          "text": [
            "Class: ['cellulitis' 'chickenpox' 'dermatitis' 'eczema' 'hives' 'lupus'\n",
            " 'melanoma' 'psoriasis' 'ringworm' 'shingles']\n"
          ]
        }
      ]
    },
    {
      "cell_type": "code",
      "source": [
        "y_new"
      ],
      "metadata": {
        "colab": {
          "base_uri": "https://localhost:8080/"
        },
        "id": "jjR9N931AGTH",
        "outputId": "5b3a0188-fa9d-4390-d3ba-018cacaec9da"
      },
      "execution_count": 98,
      "outputs": [
        {
          "output_type": "execute_result",
          "data": {
            "text/plain": [
              "array([0, 0, 0, 0, 0, 0, 0, 0, 0, 0, 0, 0, 0, 0, 0, 0, 0, 0, 0, 0, 0, 0,\n",
              "       0, 0, 0, 0, 0, 0, 0, 0, 0, 1, 0, 0, 0, 0, 1, 0, 0, 0, 1, 0, 0, 0,\n",
              "       1, 0, 0, 0, 0, 1, 0, 0, 0, 0, 0, 1, 1, 1, 1, 1, 1, 1, 1, 1, 1, 1,\n",
              "       1, 1, 1, 1, 1, 1, 1, 1, 1, 1, 1, 1, 1, 1, 1, 1, 1, 1, 2, 1, 2, 1,\n",
              "       1, 1, 2, 1, 1, 1, 1, 1, 1, 2, 2, 2, 1, 1, 1, 2, 1, 1, 1, 2, 2, 2,\n",
              "       2, 2, 2, 2, 2, 2, 2, 2, 2, 2, 2, 2, 2, 2, 2, 2, 2, 2, 2, 2, 2, 2,\n",
              "       3, 2, 2, 2, 2, 3, 3, 2, 2, 2, 3, 2, 2, 2, 2, 3, 3, 2, 3, 2, 2, 3,\n",
              "       2, 2, 2, 2, 3, 3, 3, 3, 3, 3, 3, 3, 3, 3, 3, 3, 3, 3, 3, 3, 3, 3,\n",
              "       3, 3, 3, 3, 3, 3, 3, 3, 3, 3, 3, 3, 4, 4, 4, 4, 4, 3, 3, 3, 4, 3,\n",
              "       4, 4, 3, 4, 4, 3, 4, 3, 3, 4, 3, 4, 4, 4, 4, 3, 3, 3, 4, 4, 4, 4,\n",
              "       4, 4, 4, 4, 4, 4, 4, 4, 4, 4, 4, 4, 4, 4, 4, 4, 4, 4, 4, 4, 4, 4,\n",
              "       4, 5, 4, 5, 5, 5, 4, 5, 5, 5, 5, 5, 5, 4, 5, 4, 4, 5, 5, 4, 5, 5,\n",
              "       5, 5, 5, 5, 4, 5, 5, 5, 5, 5, 5, 5, 5, 5, 5, 5, 5, 5, 5, 5, 5, 5,\n",
              "       5, 5, 5, 5, 5, 5, 5, 5, 5, 5, 5, 5, 5, 5, 8, 8, 8, 8, 8, 8, 8, 8,\n",
              "       8, 8, 8, 8, 8, 8, 8, 8, 8, 8, 8, 8, 8, 8, 8, 8, 8, 8, 8, 8, 8, 8,\n",
              "       9, 8, 8, 8, 8, 8, 8, 9, 8, 9, 8, 8, 8, 8, 9, 8, 8, 9, 9, 8, 8, 8,\n",
              "       8, 8, 8, 9, 8, 9, 9, 9, 9, 9, 9, 9, 9, 9, 9, 9, 9, 9, 9, 9, 9, 9,\n",
              "       9, 9, 9, 9, 9, 9, 9, 9, 9, 9, 9, 9, 9, 9, 9, 9, 9, 9, 9, 9, 9, 9,\n",
              "       9, 9, 9, 9, 3, 3, 3, 3, 3, 3, 3, 3, 3, 3, 3, 3, 3, 3, 3, 3, 3, 3,\n",
              "       3, 3, 3, 3, 3, 3, 3, 3, 3, 3, 3, 3, 3, 3, 3, 3, 3, 3, 3, 3, 3, 3,\n",
              "       3, 3, 3, 3, 3, 3, 3, 3, 3, 3, 8, 8, 8, 8, 8, 8, 8, 8, 8, 8, 8, 8,\n",
              "       8, 8, 8, 8, 8, 8, 8, 8, 8, 8, 8, 8, 8, 8, 8, 8, 8, 8, 8, 8, 8, 8,\n",
              "       8, 8, 8, 8, 8, 8, 8, 8, 8, 8, 8, 8, 8, 8, 8, 8, 5, 5, 5, 5, 5, 5,\n",
              "       5, 5, 5, 5, 5, 5, 5, 5, 5, 5, 5, 5, 5, 5, 5, 5, 5, 5, 5, 5, 5, 5,\n",
              "       5, 5, 5, 5, 5, 5, 5, 5, 5, 5, 5, 5, 5, 5, 5, 5, 5, 5, 5, 5, 5, 5,\n",
              "       7, 7, 7, 7, 7, 7, 7, 7, 7, 7, 7, 7, 7, 7, 7, 7, 7, 7, 7, 7, 7, 7,\n",
              "       7, 7, 7, 7, 7, 7, 7, 7, 7, 7, 7, 7, 7, 7, 7, 7, 7, 7, 7, 7, 7, 7,\n",
              "       7, 7, 7, 7, 7, 7, 2, 2, 2, 2, 2, 2, 2, 2, 2, 2, 2, 2, 2, 2, 2, 2,\n",
              "       2, 2, 2, 2, 2, 2, 2, 2, 2, 2, 2, 2, 2, 2, 2, 2, 2, 2, 2, 2, 2, 2,\n",
              "       2, 2, 2, 2, 2, 2, 2, 2, 2, 2, 2, 4, 4, 4, 4, 4, 4, 4, 4, 4, 4, 4,\n",
              "       4, 4, 4, 4, 4, 4, 4, 4, 4, 4, 4, 4, 4, 4, 4, 4, 4, 4, 4, 4, 4, 4,\n",
              "       4, 4, 4, 4, 4, 4, 4, 4, 4, 4, 4, 4, 4, 4, 4, 4, 4, 6, 6, 6, 6, 6,\n",
              "       6, 6, 6, 6, 6, 6, 6, 6, 6, 6, 6, 6, 6, 6, 6, 6, 6, 6, 6, 6, 6, 6,\n",
              "       6, 6, 6, 6, 6, 6, 6, 6, 6, 6, 6, 6, 6, 6, 6, 6, 6, 6, 6, 6, 6, 6,\n",
              "       6, 1, 1, 1, 1, 1, 1, 1, 1, 1, 1, 1, 1, 1, 1, 1, 1, 1, 1, 1, 1, 1,\n",
              "       1, 1, 1, 1, 1, 1, 1, 1, 1, 1, 1, 1, 1, 1, 1, 1, 1, 1, 1, 1, 1, 1,\n",
              "       1, 1, 1, 1, 1, 1, 0, 0, 0, 0, 0, 0, 0, 0, 0, 0, 0, 0, 0, 0, 0, 0,\n",
              "       0, 0, 0, 0, 0, 0, 0, 0, 0, 0, 0, 0, 0, 0, 0, 0, 0, 0, 0, 0, 0, 0,\n",
              "       0, 0, 0, 0, 0, 0, 0, 0, 0, 0, 0, 0], dtype=uint8)"
            ]
          },
          "metadata": {},
          "execution_count": 98
        }
      ]
    },
    {
      "cell_type": "markdown",
      "metadata": {
        "id": "ENBo1kjinqWs"
      },
      "source": [
        "### Split the data set into train and test data"
      ]
    },
    {
      "cell_type": "code",
      "source": [
        "from sklearn.model_selection import train_test_split\n",
        "\n",
        "# Assuming x is your feature dataset and y_new is your label dataset\n",
        "\n",
        "# Check the shapes of your arrays\n",
        "print(\"Shape of x:\", x.shape)\n",
        "print(\"Shape of y_new:\", y_new.shape)\n",
        "\n",
        "# Ensure the number of samples match\n",
        "if x.shape[0] == y_new.shape[0]:\n",
        "    # Split the data into training and testing sets\n",
        "    X_train, X_test, y_train, y_test = train_test_split(x, y_new, test_size=0.3, random_state=42)\n",
        "else:\n",
        "    print(\"Number of samples in x and y_new are inconsistent.\")\n"
      ],
      "metadata": {
        "colab": {
          "base_uri": "https://localhost:8080/"
        },
        "id": "ozVvjn5cFuSB",
        "outputId": "bc46115c-27e6-495b-d957-b11de7e540a7"
      },
      "execution_count": 99,
      "outputs": [
        {
          "output_type": "stream",
          "name": "stdout",
          "text": [
            "Shape of x: (848, 32, 32, 3)\n",
            "Shape of y_new: (848,)\n"
          ]
        }
      ]
    },
    {
      "cell_type": "code",
      "execution_count": 100,
      "metadata": {
        "colab": {
          "base_uri": "https://localhost:8080/"
        },
        "id": "64z9vrYynqWt",
        "outputId": "00cf41f4-6518-4385-8e57-3fe31fd6e440"
      },
      "outputs": [
        {
          "output_type": "execute_result",
          "data": {
            "text/plain": [
              "(255, 32, 32, 3)"
            ]
          },
          "metadata": {},
          "execution_count": 100
        }
      ],
      "source": [
        "X_test.shape"
      ]
    },
    {
      "cell_type": "code",
      "execution_count": 101,
      "metadata": {
        "colab": {
          "base_uri": "https://localhost:8080/"
        },
        "id": "5A_qQgU4nqWt",
        "outputId": "0d918f9d-a5ec-49b2-a0ca-30d9e7ab7856"
      },
      "outputs": [
        {
          "output_type": "execute_result",
          "data": {
            "text/plain": [
              "(593,)"
            ]
          },
          "metadata": {},
          "execution_count": 101
        }
      ],
      "source": [
        "y_train.shape"
      ]
    },
    {
      "cell_type": "code",
      "execution_count": 102,
      "metadata": {
        "colab": {
          "base_uri": "https://localhost:8080/"
        },
        "id": "nQJrm3t_nqWt",
        "outputId": "eeb375f1-3407-4a61-bab1-22df443e0f94"
      },
      "outputs": [
        {
          "output_type": "execute_result",
          "data": {
            "text/plain": [
              "array([8, 9, 2, 3, 0, 6, 8, 1, 7, 5, 3, 2, 4, 4, 8, 8, 3, 1, 0, 7, 0, 5,\n",
              "       2, 9, 1, 5, 8, 5, 0, 6, 9, 9, 0, 9, 1, 6, 5, 3, 7, 8, 8, 0, 0, 7,\n",
              "       1, 1, 4, 5, 8, 3], dtype=uint8)"
            ]
          },
          "metadata": {},
          "execution_count": 102
        }
      ],
      "source": [
        "y_train[:50]"
      ]
    },
    {
      "cell_type": "markdown",
      "metadata": {
        "id": "f5QPyQ0gnqWu"
      },
      "source": [
        "##### y_train is a 2D array, for our classification having 1D array is good enough. so we will convert this to now 1D array"
      ]
    },
    {
      "cell_type": "code",
      "execution_count": 103,
      "metadata": {
        "colab": {
          "base_uri": "https://localhost:8080/"
        },
        "id": "f6r5xO8TnqWu",
        "outputId": "568082d5-11a5-460b-821d-bd3832efa370"
      },
      "outputs": [
        {
          "output_type": "execute_result",
          "data": {
            "text/plain": [
              "array([8, 9, 2, 3, 0], dtype=uint8)"
            ]
          },
          "metadata": {},
          "execution_count": 103
        }
      ],
      "source": [
        "y_train = y_train.reshape(-1,)\n",
        "y_train[:5]"
      ]
    },
    {
      "cell_type": "code",
      "execution_count": 104,
      "metadata": {
        "id": "03CWdPDCnqWu"
      },
      "outputs": [],
      "source": [
        "y_test = y_test.reshape(-1,)"
      ]
    },
    {
      "cell_type": "code",
      "execution_count": 105,
      "metadata": {
        "id": "Fcd7KrwpnqWu"
      },
      "outputs": [],
      "source": [
        "classes = ['cellulitis', 'chickenpox', 'dermatitis', 'eczema', 'hives', 'lupus','melanoma', 'psoriasis', 'ringworm', 'shingles']"
      ]
    },
    {
      "cell_type": "markdown",
      "metadata": {
        "id": "OaYwYFK3nqWu"
      },
      "source": [
        "### Let's plot some images to see what they are"
      ]
    },
    {
      "cell_type": "code",
      "execution_count": 106,
      "metadata": {
        "id": "BZx_TlFynqWu"
      },
      "outputs": [],
      "source": [
        "def plot_sample(X, y, index):\n",
        "    plt.figure(figsize = (15,2))\n",
        "    plt.imshow(X[index])\n",
        "    plt.xlabel(classes[y[index]])"
      ]
    },
    {
      "cell_type": "code",
      "execution_count": null,
      "metadata": {
        "colab": {
          "base_uri": "https://localhost:8080/",
          "height": 237
        },
        "id": "L--M52f-nqWv",
        "outputId": "2b964c65-790c-45d0-fc5f-0d5a6a3c2161"
      },
      "outputs": [
        {
          "output_type": "display_data",
          "data": {
            "text/plain": [
              "<Figure size 1500x200 with 1 Axes>"
            ],
            "image/png": "[encoded data removed]"
          },
          "metadata": {}
        }
      ],
      "source": [
        "plot_sample(X_train, y_train, 3)"
      ]
    },
    {
      "cell_type": "code",
      "execution_count": null,
      "metadata": {
        "colab": {
          "base_uri": "https://localhost:8080/",
          "height": 237
        },
        "id": "GaBbu-l9nqWv",
        "outputId": "6d48db33-2abf-438a-f3ee-c6d455b32780"
      },
      "outputs": [
        {
          "output_type": "display_data",
          "data": {
            "text/plain": [
              "<Figure size 1500x200 with 1 Axes>"
            ],
            "image/png": "[encoded data removed]"
          },
          "metadata": {}
        }
      ],
      "source": [
        "plot_sample(X_train, y_train, 1)"
      ]
    },
    {
      "cell_type": "markdown",
      "metadata": {
        "id": "j_HrFBlJnqWv"
      },
      "source": [
        "Normalize the images to a number from 0 to 1. Image has 3 channels (R,G,B) and each value in the channel can range from 0 to 255. Hence to normalize in 0-->1 range, we need to divide it by 255\n",
        "\n",
        "### Normalizing the training data"
      ]
    },
    {
      "cell_type": "code",
      "execution_count": 107,
      "metadata": {
        "id": "fWcPGOyYnqWv"
      },
      "outputs": [],
      "source": [
        "X_train = X_train / 255.0\n",
        "X_test = X_test / 255.0"
      ]
    },
    {
      "cell_type": "markdown",
      "metadata": {
        "id": "CcROS9bMnqWv"
      },
      "source": [
        "### Build simple artificial neural network for image classification"
      ]
    },
    {
      "cell_type": "code",
      "source": [
        "from tensorflow.keras import models, layers\n",
        "\n",
        "# Define the model\n",
        "ann = models.Sequential([\n",
        "    layers.Flatten(input_shape=(32,32,3)),\n",
        "    layers.Dense(3000, activation='relu'),\n",
        "    layers.Dense(1000, activation='relu'),\n",
        "    layers.Dense(10, activation='softmax')  # Change activation to softmax for multiclass classification\n",
        "])\n",
        "\n",
        "# Compile the model with Adam optimizer and a reduced learning rate\n",
        "ann.compile(optimizer='adam',  # Change optimizer to Adam\n",
        "            loss='sparse_categorical_crossentropy',\n",
        "            metrics=['accuracy'])\n",
        "\n",
        "# Fit the model with increased epochs\n",
        "ann.fit(X_train, y_train, epochs=30)  # Increase epochs to 30"
      ],
      "metadata": {
        "colab": {
          "base_uri": "https://localhost:8080/"
        },
        "id": "WopRbZ1ZKwpe",
        "outputId": "69518313-6d3a-4a08-c731-69a7a2bcf07a"
      },
      "execution_count": 108,
      "outputs": [
        {
          "output_type": "stream",
          "name": "stdout",
          "text": [
            "Epoch 1/30\n",
            "19/19 [==============================] - 6s 293ms/step - loss: 6.7946 - accuracy: 0.1164\n",
            "Epoch 2/30\n",
            "19/19 [==============================] - 4s 202ms/step - loss: 2.2897 - accuracy: 0.1737\n",
            "Epoch 3/30\n",
            "19/19 [==============================] - 4s 203ms/step - loss: 2.1445 - accuracy: 0.2175\n",
            "Epoch 4/30\n",
            "19/19 [==============================] - 5s 290ms/step - loss: 2.1668 - accuracy: 0.2091\n",
            "Epoch 5/30\n",
            "19/19 [==============================] - 4s 204ms/step - loss: 2.0510 - accuracy: 0.2513\n",
            "Epoch 6/30\n",
            "19/19 [==============================] - 4s 207ms/step - loss: 2.0296 - accuracy: 0.2664\n",
            "Epoch 7/30\n",
            "19/19 [==============================] - 6s 306ms/step - loss: 2.0307 - accuracy: 0.2327\n",
            "Epoch 8/30\n",
            "19/19 [==============================] - 4s 211ms/step - loss: 1.9942 - accuracy: 0.2715\n",
            "Epoch 9/30\n",
            "19/19 [==============================] - 4s 204ms/step - loss: 1.9480 - accuracy: 0.2934\n",
            "Epoch 10/30\n",
            "19/19 [==============================] - 5s 243ms/step - loss: 1.9405 - accuracy: 0.2648\n",
            "Epoch 11/30\n",
            "19/19 [==============================] - 5s 244ms/step - loss: 1.8994 - accuracy: 0.3069\n",
            "Epoch 12/30\n",
            "19/19 [==============================] - 4s 202ms/step - loss: 1.8192 - accuracy: 0.3524\n",
            "Epoch 13/30\n",
            "19/19 [==============================] - 4s 213ms/step - loss: 1.7764 - accuracy: 0.3423\n",
            "Epoch 14/30\n",
            "19/19 [==============================] - 5s 280ms/step - loss: 1.8604 - accuracy: 0.3238\n",
            "Epoch 15/30\n",
            "19/19 [==============================] - 4s 206ms/step - loss: 1.7574 - accuracy: 0.3609\n",
            "Epoch 16/30\n",
            "19/19 [==============================] - 4s 208ms/step - loss: 1.7330 - accuracy: 0.3929\n",
            "Epoch 17/30\n",
            "19/19 [==============================] - 6s 294ms/step - loss: 1.7169 - accuracy: 0.3676\n",
            "Epoch 18/30\n",
            "19/19 [==============================] - 4s 206ms/step - loss: 1.6668 - accuracy: 0.4199\n",
            "Epoch 19/30\n",
            "19/19 [==============================] - 4s 203ms/step - loss: 1.6395 - accuracy: 0.4098\n",
            "Epoch 20/30\n",
            "19/19 [==============================] - 5s 282ms/step - loss: 1.6566 - accuracy: 0.4199\n",
            "Epoch 21/30\n",
            "19/19 [==============================] - 4s 206ms/step - loss: 1.5838 - accuracy: 0.4351\n",
            "Epoch 22/30\n",
            "19/19 [==============================] - 4s 206ms/step - loss: 1.5124 - accuracy: 0.4604\n",
            "Epoch 23/30\n",
            "19/19 [==============================] - 5s 260ms/step - loss: 1.6066 - accuracy: 0.4182\n",
            "Epoch 24/30\n",
            "19/19 [==============================] - 4s 231ms/step - loss: 1.6077 - accuracy: 0.4132\n",
            "Epoch 25/30\n",
            "19/19 [==============================] - 4s 209ms/step - loss: 1.4592 - accuracy: 0.4705\n",
            "Epoch 26/30\n",
            "19/19 [==============================] - 5s 240ms/step - loss: 1.4531 - accuracy: 0.4874\n",
            "Epoch 27/30\n",
            "19/19 [==============================] - 5s 254ms/step - loss: 1.3528 - accuracy: 0.5312\n",
            "Epoch 28/30\n",
            "19/19 [==============================] - 4s 207ms/step - loss: 1.3240 - accuracy: 0.5464\n",
            "Epoch 29/30\n",
            "19/19 [==============================] - 4s 211ms/step - loss: 1.3079 - accuracy: 0.5363\n",
            "Epoch 30/30\n",
            "19/19 [==============================] - 5s 278ms/step - loss: 1.2955 - accuracy: 0.5329\n"
          ]
        },
        {
          "output_type": "execute_result",
          "data": {
            "text/plain": [
              "<keras.src.callbacks.History at 0x7be769d89a80>"
            ]
          },
          "metadata": {},
          "execution_count": 108
        }
      ]
    },
    {
      "cell_type": "code",
      "execution_count": 109,
      "metadata": {
        "colab": {
          "base_uri": "https://localhost:8080/"
        },
        "id": "KpyiY2EbnqWw",
        "outputId": "0dff86c3-5718-45d1-f721-fd62586f848a"
      },
      "outputs": [
        {
          "output_type": "stream",
          "name": "stdout",
          "text": [
            "8/8 [==============================] - 0s 33ms/step\n",
            "8/8 [==============================] - 0s 32ms/step - loss: 2.0544 - accuracy: 0.3529\n",
            "Test accuracy: 0.3529411852359772\n",
            "Classification Report: \n",
            "               precision    recall  f1-score   support\n",
            "\n",
            "           0       0.48      0.43      0.45        28\n",
            "           1       0.40      0.21      0.28        38\n",
            "           2       0.24      0.24      0.24        29\n",
            "           3       0.27      0.14      0.18        29\n",
            "           4       0.28      0.39      0.33        33\n",
            "           5       0.41      0.55      0.47        31\n",
            "           6       0.67      0.33      0.44        12\n",
            "           7       0.82      0.90      0.86        10\n",
            "           8       0.28      0.50      0.36        30\n",
            "           9       0.14      0.07      0.09        15\n",
            "\n",
            "    accuracy                           0.35       255\n",
            "   macro avg       0.40      0.38      0.37       255\n",
            "weighted avg       0.36      0.35      0.34       255\n",
            "\n"
          ]
        }
      ],
      "source": [
        "from sklearn.metrics import confusion_matrix , classification_report\n",
        "import numpy as np\n",
        "y_pred = ann.predict(X_test)\n",
        "y_pred_classes = [np.argmax(element) for element in y_pred]\n",
        "\n",
        "\n",
        "# Evaluate the model on test data\n",
        "test_loss, test_acc = ann.evaluate(X_test, y_test)\n",
        "print('Test accuracy:', test_acc)\n",
        "print(\"Classification Report: \\n\", classification_report(y_test, y_pred_classes))"
      ]
    },
    {
      "cell_type": "code",
      "execution_count": 110,
      "metadata": {
        "colab": {
          "base_uri": "https://localhost:8080/"
        },
        "id": "jCbihDcxnqWw",
        "outputId": "4605364e-fbd3-4b71-daa0-ec9f599623b2"
      },
      "outputs": [
        {
          "output_type": "stream",
          "name": "stdout",
          "text": [
            "Model: \"sequential_7\"\n",
            "_________________________________________________________________\n",
            " Layer (type)                Output Shape              Param #   \n",
            "=================================================================\n",
            " flatten_4 (Flatten)         (None, 3072)              0         \n",
            "                                                                 \n",
            " dense_15 (Dense)            (None, 3000)              9219000   \n",
            "                                                                 \n",
            " dense_16 (Dense)            (None, 1000)              3001000   \n",
            "                                                                 \n",
            " dense_17 (Dense)            (None, 10)                10010     \n",
            "                                                                 \n",
            "=================================================================\n",
            "Total params: 12230010 (46.65 MB)\n",
            "Trainable params: 12230010 (46.65 MB)\n",
            "Non-trainable params: 0 (0.00 Byte)\n",
            "_________________________________________________________________\n"
          ]
        }
      ],
      "source": [
        "ann.summary()"
      ]
    },
    {
      "cell_type": "code",
      "source": [
        "ann.evaluate(X_test,y_test)"
      ],
      "metadata": {
        "colab": {
          "base_uri": "https://localhost:8080/"
        },
        "id": "HGEvm3iANMmo",
        "outputId": "5e77dc99-0a3d-4cfc-ab47-10fced1e8617"
      },
      "execution_count": 111,
      "outputs": [
        {
          "output_type": "stream",
          "name": "stdout",
          "text": [
            "8/8 [==============================] - 0s 43ms/step - loss: 2.0544 - accuracy: 0.3529\n"
          ]
        },
        {
          "output_type": "execute_result",
          "data": {
            "text/plain": [
              "[2.054426431655884, 0.3529411852359772]"
            ]
          },
          "metadata": {},
          "execution_count": 111
        }
      ]
    },
    {
      "cell_type": "markdown",
      "metadata": {
        "id": "L4BfVi00nqWw"
      },
      "source": [
        "### Now let us build a convolutional neural network to train our images"
      ]
    },
    {
      "cell_type": "code",
      "execution_count": 118,
      "metadata": {
        "id": "EHyMdsRCnqWw"
      },
      "outputs": [],
      "source": [
        "cnn = models.Sequential([\n",
        "    layers.Conv2D(filters=32, kernel_size=(3, 3), activation='relu', input_shape=(32, 32, 3)),\n",
        "    layers.MaxPooling2D((2, 2)),\n",
        "\n",
        "    layers.Conv2D(filters=64, kernel_size=(3, 3), activation='relu'),\n",
        "    layers.MaxPooling2D((2, 2)),\n",
        "\n",
        "    layers.Flatten(),\n",
        "    layers.Dense(64, activation='relu'),\n",
        "    #layers.Dropout(rate=.2,noise_shape=None),\n",
        "    layers.Dense(10, activation='softmax')\n",
        "])"
      ]
    },
    {
      "cell_type": "code",
      "source": [
        "cnn.summary()"
      ],
      "metadata": {
        "colab": {
          "base_uri": "https://localhost:8080/"
        },
        "id": "zIKFAoQqNZev",
        "outputId": "e71d529e-950a-4ad2-a08b-71cdecc5e94d"
      },
      "execution_count": 119,
      "outputs": [
        {
          "output_type": "stream",
          "name": "stdout",
          "text": [
            "Model: \"sequential_9\"\n",
            "_________________________________________________________________\n",
            " Layer (type)                Output Shape              Param #   \n",
            "=================================================================\n",
            " conv2d_24 (Conv2D)          (None, 30, 30, 32)        896       \n",
            "                                                                 \n",
            " max_pooling2d_21 (MaxPooli  (None, 15, 15, 32)        0         \n",
            " ng2D)                                                           \n",
            "                                                                 \n",
            " conv2d_25 (Conv2D)          (None, 13, 13, 64)        18496     \n",
            "                                                                 \n",
            " max_pooling2d_22 (MaxPooli  (None, 6, 6, 64)          0         \n",
            " ng2D)                                                           \n",
            "                                                                 \n",
            " flatten_6 (Flatten)         (None, 2304)              0         \n",
            "                                                                 \n",
            " dense_20 (Dense)            (None, 64)                147520    \n",
            "                                                                 \n",
            " dense_21 (Dense)            (None, 10)                650       \n",
            "                                                                 \n",
            "=================================================================\n",
            "Total params: 167562 (654.54 KB)\n",
            "Trainable params: 167562 (654.54 KB)\n",
            "Non-trainable params: 0 (0.00 Byte)\n",
            "_________________________________________________________________\n"
          ]
        }
      ]
    },
    {
      "cell_type": "code",
      "execution_count": 120,
      "metadata": {
        "id": "NTq3C-aGnqWx"
      },
      "outputs": [],
      "source": [
        "cnn.compile(optimizer='adam',\n",
        "              loss='sparse_categorical_crossentropy',\n",
        "              metrics=['accuracy'])"
      ]
    },
    {
      "cell_type": "code",
      "execution_count": 122,
      "metadata": {
        "colab": {
          "base_uri": "https://localhost:8080/"
        },
        "id": "PoZIb91bnqWx",
        "outputId": "0a5ff407-b322-43c4-e6d4-ae84ae206f9d"
      },
      "outputs": [
        {
          "output_type": "stream",
          "name": "stdout",
          "text": [
            "Epoch 1/20\n",
            "19/19 [==============================] - 3s 57ms/step - loss: 2.2806 - accuracy: 0.1315\n",
            "Epoch 2/20\n",
            "19/19 [==============================] - 1s 63ms/step - loss: 2.1798 - accuracy: 0.1737\n",
            "Epoch 3/20\n",
            "19/19 [==============================] - 1s 34ms/step - loss: 2.0840 - accuracy: 0.2260\n",
            "Epoch 4/20\n",
            "19/19 [==============================] - 1s 35ms/step - loss: 1.9709 - accuracy: 0.2884\n",
            "Epoch 5/20\n",
            "19/19 [==============================] - 1s 36ms/step - loss: 1.8621 - accuracy: 0.3491\n",
            "Epoch 6/20\n",
            "19/19 [==============================] - 1s 35ms/step - loss: 1.7695 - accuracy: 0.3811\n",
            "Epoch 7/20\n",
            "19/19 [==============================] - 1s 36ms/step - loss: 1.6984 - accuracy: 0.3980\n",
            "Epoch 8/20\n",
            "19/19 [==============================] - 1s 36ms/step - loss: 1.6032 - accuracy: 0.4570\n",
            "Epoch 9/20\n",
            "19/19 [==============================] - 1s 61ms/step - loss: 1.4996 - accuracy: 0.5025\n",
            "Epoch 10/20\n",
            "19/19 [==============================] - 1s 59ms/step - loss: 1.4359 - accuracy: 0.5278\n",
            "Epoch 11/20\n",
            "19/19 [==============================] - 1s 62ms/step - loss: 1.3711 - accuracy: 0.5363\n",
            "Epoch 12/20\n",
            "19/19 [==============================] - 1s 49ms/step - loss: 1.3695 - accuracy: 0.5228\n",
            "Epoch 13/20\n",
            "19/19 [==============================] - 1s 36ms/step - loss: 1.2718 - accuracy: 0.5582\n",
            "Epoch 14/20\n",
            "19/19 [==============================] - 1s 35ms/step - loss: 1.2136 - accuracy: 0.5919\n",
            "Epoch 15/20\n",
            "19/19 [==============================] - 1s 37ms/step - loss: 1.1466 - accuracy: 0.6138\n",
            "Epoch 16/20\n",
            "19/19 [==============================] - 1s 35ms/step - loss: 1.0857 - accuracy: 0.6408\n",
            "Epoch 17/20\n",
            "19/19 [==============================] - 1s 36ms/step - loss: 1.0428 - accuracy: 0.6745\n",
            "Epoch 18/20\n",
            "19/19 [==============================] - 1s 36ms/step - loss: 0.9485 - accuracy: 0.6830\n",
            "Epoch 19/20\n",
            "19/19 [==============================] - 1s 36ms/step - loss: 0.9442 - accuracy: 0.6880\n",
            "Epoch 20/20\n",
            "19/19 [==============================] - 1s 35ms/step - loss: 0.8794 - accuracy: 0.7133\n"
          ]
        },
        {
          "output_type": "execute_result",
          "data": {
            "text/plain": [
              "<keras.src.callbacks.History at 0x7be7855c9150>"
            ]
          },
          "metadata": {},
          "execution_count": 122
        }
      ],
      "source": [
        "cnn.fit(X_train, y_train, epochs=20)"
      ]
    },
    {
      "cell_type": "code",
      "execution_count": 123,
      "metadata": {
        "id": "nmpeBIIJnqWx",
        "colab": {
          "base_uri": "https://localhost:8080/"
        },
        "outputId": "e775b449-49c4-4b3a-b169-0a75056d7407"
      },
      "outputs": [
        {
          "output_type": "stream",
          "name": "stdout",
          "text": [
            "8/8 [==============================] - 0s 12ms/step - loss: 2.2791 - accuracy: 0.3608\n"
          ]
        },
        {
          "output_type": "execute_result",
          "data": {
            "text/plain": [
              "[2.2791459560394287, 0.3607843220233917]"
            ]
          },
          "metadata": {},
          "execution_count": 123
        }
      ],
      "source": [
        "cnn.evaluate(X_test,y_test)"
      ]
    },
    {
      "cell_type": "code",
      "execution_count": 124,
      "metadata": {
        "id": "-EpjcRW_nqWy",
        "colab": {
          "base_uri": "https://localhost:8080/",
          "height": 237
        },
        "outputId": "073ba2d5-7189-42d4-8ecd-df5051796c77"
      },
      "outputs": [
        {
          "output_type": "display_data",
          "data": {
            "text/plain": [
              "<Figure size 1500x200 with 1 Axes>"
            ],
            "image/png": "[encoded data removed]"
          },
          "metadata": {}
        }
      ],
      "source": [
        "plot_sample(X_test, y_test,104)"
      ]
    },
    {
      "cell_type": "code",
      "execution_count": 125,
      "metadata": {
        "id": "wOcQgepJnqWy",
        "colab": {
          "base_uri": "https://localhost:8080/",
          "height": 36
        },
        "outputId": "ef2bd0f6-c4eb-447c-b2e5-ef481d701bd2"
      },
      "outputs": [
        {
          "output_type": "execute_result",
          "data": {
            "text/plain": [
              "'chickenpox'"
            ],
            "application/vnd.google.colaboratory.intrinsic+json": {
              "type": "string"
            }
          },
          "metadata": {},
          "execution_count": 125
        }
      ],
      "source": [
        "classes[y_new[104]]"
      ]
    },
    {
      "cell_type": "code",
      "source": [
        "plot_sample(X_test, y_test,50)"
      ],
      "metadata": {
        "colab": {
          "base_uri": "https://localhost:8080/",
          "height": 237
        },
        "id": "Ax3vFnwANin1",
        "outputId": "799b3724-7107-4d6f-d3ce-f01e1a4e0b59"
      },
      "execution_count": 126,
      "outputs": [
        {
          "output_type": "display_data",
          "data": {
            "text/plain": [
              "<Figure size 1500x200 with 1 Axes>"
            ],
            "image/png": "[encoded data removed]"
          },
          "metadata": {}
        }
      ]
    },
    {
      "cell_type": "code",
      "source": [
        "classes[y_new[50]]"
      ],
      "metadata": {
        "colab": {
          "base_uri": "https://localhost:8080/",
          "height": 36
        },
        "id": "9kNoJSqLNluF",
        "outputId": "82c06dd1-f9bc-4bbd-c2f6-d1ef484871a3"
      },
      "execution_count": 127,
      "outputs": [
        {
          "output_type": "execute_result",
          "data": {
            "text/plain": [
              "'cellulitis'"
            ],
            "application/vnd.google.colaboratory.intrinsic+json": {
              "type": "string"
            }
          },
          "metadata": {},
          "execution_count": 127
        }
      ]
    },
    {
      "cell_type": "code",
      "source": [
        "plot_sample(X_test, y_test,90)"
      ],
      "metadata": {
        "colab": {
          "base_uri": "https://localhost:8080/",
          "height": 237
        },
        "id": "ZKXIWNQ8Nw5x",
        "outputId": "3ea16d6b-d5e3-4b48-ad7e-f2e9d5c91ec5"
      },
      "execution_count": 128,
      "outputs": [
        {
          "output_type": "display_data",
          "data": {
            "text/plain": [
              "<Figure size 1500x200 with 1 Axes>"
            ],
            "image/png": "[encoded data removed]"
          },
          "metadata": {}
        }
      ]
    },
    {
      "cell_type": "code",
      "source": [
        "classes[y_new[90]]"
      ],
      "metadata": {
        "colab": {
          "base_uri": "https://localhost:8080/",
          "height": 36
        },
        "id": "_2qhErZeN8QZ",
        "outputId": "239c4a3e-2d2c-4646-c635-dcb447498c4b"
      },
      "execution_count": 129,
      "outputs": [
        {
          "output_type": "execute_result",
          "data": {
            "text/plain": [
              "'dermatitis'"
            ],
            "application/vnd.google.colaboratory.intrinsic+json": {
              "type": "string"
            }
          },
          "metadata": {},
          "execution_count": 129
        }
      ]
    }
  ],
  "metadata": {
    "colab": {
      "provenance": []
    },
    "kernelspec": {
      "display_name": "Python 3",
      "language": "python",
      "name": "python3"
    },
    "language_info": {
      "codemirror_mode": {
        "name": "ipython",
        "version": 3
      },
      "file_extension": ".py",
      "mimetype": "text/x-python",
      "name": "python",
      "nbconvert_exporter": "python",
      "pygments_lexer": "ipython3",
      "version": "3.7.3"
    }
  },
  "nbformat": 4,
  "nbformat_minor": 0
}